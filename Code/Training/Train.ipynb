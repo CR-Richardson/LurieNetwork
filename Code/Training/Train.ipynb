{
 "cells": [
  {
   "cell_type": "code",
   "execution_count": null,
   "id": "0886fe60-b308-4397-8e19-1fcbdec67ccb",
   "metadata": {
    "colab": {
     "base_uri": "https://localhost:8080/"
    },
    "executionInfo": {
     "elapsed": 62624,
     "status": "ok",
     "timestamp": 1733235479825,
     "user": {
      "displayName": "Carl Richardson",
      "userId": "17426648137746969126"
     },
     "user_tz": 0
    },
    "id": "0886fe60-b308-4397-8e19-1fcbdec67ccb",
    "outputId": "8b7b6181-7072-4728-a355-57ff3a0532cc"
   },
   "outputs": [
    {
     "name": "stdout",
     "output_type": "stream",
     "text": [
      "Mounted at /content/gdrive\n",
      "Device in use is:  cuda\n"
     ]
    }
   ],
   "source": [
    "import torch\n",
    "import torch.nn as nn\n",
    "import numpy as np\n",
    "import matplotlib.pyplot as plt\n",
    "import pickle\n",
    "import pandas as pd\n",
    "import sys\n",
    "import os\n",
    "import time\n",
    "\n",
    "# ### settings for running training loop using a specified Google Drive account\n",
    "from google.colab import drive\n",
    "drive.mount('/content/gdrive')\n",
    "gdrive_path = \"/content/gdrive/MyDrive/\"\n",
    "\n",
    "### Hardware agnostic settings\n",
    "device = torch.device(\"cuda\" if torch.cuda.is_available() else \"cpu\")\n",
    "print(\"Device in use is: \", device)\n",
    "\n",
    "root = gdrive_path + ''\n",
    "sys.path.append(root + 'Code/')\n",
    "sys.path.append(root + 'Code/Training')\n",
    "sys.path.append(root + 'Code/Models')\n",
    "\n",
    "import Plots_Tools as PT\n",
    "import Train_Tools as Train\n",
    "import LipschitzRNN as LRNN\n",
    "import NeuralODE as NODE\n",
    "import SVDCombo as SVDC\n",
    "import GC_SVDCombo as GC_SVDC\n",
    "import LurieNet as LN\n",
    "import kLurieNet_nonHurwitz as LN_k # use kLurieNet_Hurwitz for k=1, k=2 examples and kLurieNet_nonHurwitz for k=3\n",
    "import GLN_nonHurtwitz as GLN # use GLN_Hurtwitz for k=1, k=2 examples and GLN_nonHurtwitz for k=3\n",
    "import AntisymmetricRNN as ARNN"
   ]
  },
  {
   "cell_type": "markdown",
   "id": "aETbNfN_pTBo",
   "metadata": {
    "id": "aETbNfN_pTBo"
   },
   "source": []
  },
  {
   "cell_type": "markdown",
   "id": "86330a6c-8adf-4807-88e0-a6531e59099c",
   "metadata": {
    "id": "86330a6c-8adf-4807-88e0-a6531e59099c"
   },
   "source": [
    "### Training"
   ]
  },
  {
   "cell_type": "code",
   "execution_count": null,
   "id": "85697ad9-248b-44be-be91-9e4fd0f817a6",
   "metadata": {
    "colab": {
     "base_uri": "https://localhost:8080/"
    },
    "executionInfo": {
     "elapsed": 21512,
     "status": "ok",
     "timestamp": 1733235616537,
     "user": {
      "displayName": "Carl Richardson",
      "userId": "17426648137746969126"
     },
     "user_tz": 0
    },
    "id": "85697ad9-248b-44be-be91-9e4fd0f817a6",
    "outputId": "24f95cac-3bb3-497b-fdd4-f8eb9f11d080"
   },
   "outputs": [],
   "source": [
    "\n",
    "# # ####################################### user settings #############################################\n",
    "\n",
    "# data\n",
    "D = '1a' # Dataset number\n",
    "data_path = root + 'Data/Dataset{0}/'.format(D)\n",
    "batch = 10\n",
    "bs = 100\n",
    "test_split = 0.1\n",
    "rseed = np.random.randint(0,100)\n",
    "n = 3 # state dimension\n",
    "q = 1 # number of graph coupled networks\n",
    "\n",
    "# model\n",
    "exp_no = 1 # experiment number\n",
    "model_name = 'ARNN/'\n",
    "model_dir = root + 'Models/' + model_name + 'Exp_{:03d}/'.format(exp_no)\n",
    "\n",
    "if model_name == 'LurieNet_k/' or model_name == 'GLN/':\n",
    "    A_type = 'full'\n",
    "    B = None\n",
    "    C = None\n",
    "    bx = None\n",
    "    by = None\n",
    "    g = 1\n",
    "    k = 3\n",
    "elif model_name == 'LurieNet/':\n",
    "    bx = None\n",
    "    by = None\n",
    "elif model_name == 'SVD_Combo/' or model_name == 'GC_SVDC/':\n",
    "    g = 1\n",
    "    bx = None\n",
    "elif model_name == 'LipschitzRNN/':\n",
    "    by = None\n",
    "elif model_name == 'ARNN/':\n",
    "    by = None\n",
    "elif model_name == 'NeuralODE/':\n",
    "    h = 100\n",
    "\n",
    "# training\n",
    "max_epoch = 100\n",
    "lr = 1e-2\n",
    "wd = 1e-5\n",
    "decay = 1/3\n",
    "decay_epochs = []\n",
    "\n",
    "###################################################################################################\n",
    "\n",
    "if os.path.isdir(model_dir):\n",
    "    raise Exception(\"File already exists! Do not overwrite\")\n",
    "else:\n",
    "    os.makedirs(model_dir)\n",
    "\n",
    "torch.manual_seed(rseed)\n",
    "\n",
    "# (batch, bs, tmax, n)\n",
    "X_train, X_test, T, exp_setup = Train.get_data(data_path, batch, bs, test_split, rseed, device)\n",
    "\n",
    "# # include for datasets 1a, 2a where equilibrium points are known.\n",
    "# try:\n",
    "#     eqs = torch.from_numpy( exp_setup['eqs'] )\n",
    "# except:\n",
    "#     eqs = exp_setup['eqs']\n",
    "\n",
    "_, _, step = exp_setup['time']\n",
    "\n",
    "_, _, tmax, _ = X_test.shape # (test_batch, bs, tmax, n)\n",
    "\n",
    "if model_name == 'LurieNet/':\n",
    "    print('LurieNet chosen as model!')\n",
    "    model = LN.LurieNet(q*n, tmax, step, bx, by)\n",
    "elif model_name == 'LurieNet_k/':\n",
    "    print('LurieNet_k chosen as model!')\n",
    "    model = LN_k.LurieNet_k(q*n, tmax, step, g, k, A_type, B, C, bx, by)\n",
    "elif model_name == 'GLN/':\n",
    "    print('GLN chosen as model!')\n",
    "    model = GLN.GLN(q, n, tmax, step, g, k, A_type, B, C, bx, by)\n",
    "elif model_name == 'LipschitzRNN/':\n",
    "    print('LipschitzRNN chosen as model!')\n",
    "    model = LRNN.LipschitzRNN(q*n, tmax, step, by)\n",
    "elif model_name == 'ARNN/':\n",
    "    print('ARNN chosen as model!')\n",
    "    model = ARNN.AntisymmetricRNN(q*n, tmax, step, by)\n",
    "elif model_name == 'SVD_Combo/':\n",
    "    print('SVD_Combo chosen as model!')\n",
    "    model = SVDC.SVD_Combo(q*n, tmax, step, g, bx)\n",
    "elif model_name == 'GC_SVDC/':\n",
    "    print('GC_SVDC chosen as model!')\n",
    "    model = GC_SVDC.GC_SVDC(q, n, tmax, step, g, bx)\n",
    "elif model_name == 'NeuralODE/':\n",
    "    print('NeuralODE chosen as model!')\n",
    "    model = NODE.ODEBlock( NODE.ODEFunc(q*n, h) )\n",
    "\n",
    "run_settings = {'D':D, 'batch':batch, 'bs':bs, 'test_split':test_split, 'rseed':rseed, \\\n",
    "                'max_epoch':max_epoch, 'lr':lr, 'wd':wd, 'decay':decay, 'decay_epochs':decay_epochs}\n",
    "\n",
    "if model_name == 'LurieNet/':\n",
    "    model_params = {'q':q, 'n':n, 'tmax':tmax, 'step':step, 'bx':bx, 'by':by}\n",
    "elif model_name == 'LurieNet_k/':\n",
    "    model_params = {'q':q, 'n':n, 'tmax':tmax, 'step':step, 'g':g, 'k':k, 'A_type':A_type, 'B':B, 'C':C, 'bx':bx, 'by':by}\n",
    "elif model_name == 'GLN/':\n",
    "    model_params = {'q':q, 'n':n, 'tmax':tmax, 'step':step, 'g':g, 'k':k, 'A_type':A_type, 'B':B, 'C':C, 'bx':bx, 'by':by}\n",
    "elif model_name == 'SVD_Combo/':\n",
    "    model_params = {'q':q, 'n':n, 'tmax':tmax, 'step':step, 'g':g, 'bx':bx}\n",
    "elif model_name == 'GC_SVDC/':\n",
    "    model_params = {'q':q, 'n':n, 'tmax':tmax, 'step':step, 'g':g, 'bx':bx}\n",
    "elif model_name == 'LipschitzRNN/':\n",
    "    model_params = {'q':q, 'n':n, 'tmax':tmax, 'step':step, 'by':by}\n",
    "elif model_name == 'ARNN/':\n",
    "  model_params = {'q':q, 'n':n, 'tmax':tmax, 'step':step, 'by':by}\n",
    "elif model_name == 'NeuralODE/':\n",
    "    model_params = {'q':q, 'n':n, 'h':h}\n",
    "\n",
    "with open(model_dir+'run_settings.pkl', 'wb') as f:\n",
    "    pickle.dump(run_settings, f)\n",
    "    f.close()\n",
    "with open(model_dir+'model_params.pkl', 'wb') as f:\n",
    "    pickle.dump(model_params, f)\n",
    "    f.close()\n",
    "\n",
    "print( 'parameter count =', sum(p.numel() for p in model.parameters() if p.requires_grad) )\n",
    "optimizer = torch.optim.Adam(model.parameters(), lr=lr, weight_decay=wd)\n",
    "criterion = nn.MSELoss()\n",
    "\n",
    "start_time = time.time()\n",
    "print( \"--- %s seconds ---\" % (start_time) )\n",
    "\n",
    "model = model.to(device)\n",
    "model, stats = Train.train(X_train, X_test, T, model, optimizer, criterion, max_epoch, model_dir,\n",
    "               decay, decay_epochs, model_name, device)\n",
    "\n",
    "exe_time = time.time() - start_time\n",
    "print( \"--- %s seconds ---\" % (exe_time) )\n",
    "\n",
    "\n",
    "run_settings = {'D':D, 'batch':batch, 'bs':bs, 'test_split':test_split, 'rseed':rseed, \\\n",
    "                'max_epoch':max_epoch, 'lr':lr, 'wd':wd, 'decay':decay, 'decay_epochs':decay_epochs,\n",
    "                'exe_time':exe_time}\n",
    "\n",
    "with open(model_dir+'run_settings.pkl', 'wb') as f:\n",
    "    pickle.dump(run_settings, f)\n",
    "    f.close()\n",
    "\n"
   ]
  },
  {
   "cell_type": "markdown",
   "id": "9cf11d2a-26e9-4c92-a0fa-8db48046b41f",
   "metadata": {
    "id": "9cf11d2a-26e9-4c92-a0fa-8db48046b41f"
   },
   "source": [
    "### Data analysis from last run"
   ]
  },
  {
   "cell_type": "code",
   "execution_count": null,
   "id": "6439f4db-d164-4417-8088-d9768d0fab8e",
   "metadata": {
    "colab": {
     "base_uri": "https://localhost:8080/",
     "height": 540
    },
    "executionInfo": {
     "elapsed": 999,
     "status": "ok",
     "timestamp": 1733235622448,
     "user": {
      "displayName": "Carl Richardson",
      "userId": "17426648137746969126"
     },
     "user_tz": 0
    },
    "id": "6439f4db-d164-4417-8088-d9768d0fab8e",
    "outputId": "e45d88a3-5719-452e-cc63-b434fa776d57"
   },
   "outputs": [],
   "source": [
    "file = 'mse'\n",
    "PT.plot_mse(model_dir, file, stats, max_epoch)\n"
   ]
  },
  {
   "cell_type": "code",
   "execution_count": null,
   "id": "MgDz5H2uf2H1",
   "metadata": {
    "colab": {
     "base_uri": "https://localhost:8080/"
    },
    "executionInfo": {
     "elapsed": 2099,
     "status": "ok",
     "timestamp": 1733235656113,
     "user": {
      "displayName": "Carl Richardson",
      "userId": "17426648137746969126"
     },
     "user_tz": 0
    },
    "id": "MgDz5H2uf2H1",
    "outputId": "b179cbf2-1f55-485d-b567-44d81bb778a1"
   },
   "outputs": [],
   "source": [
    "# Plots.\n",
    "\n",
    "file = 'compare_train_traj'\n",
    "model = ARNN.AntisymmetricRNN(q*n, tmax, step, by)\n",
    "\n",
    "best_model_index = np.argmin(stats['test loss'])\n",
    "best_model = 'epoch{:03d}.pt'.format(best_model_index+1)\n",
    "model.load_state_dict( torch.load(model_dir + best_model) )\n",
    "model = model.to(\"cpu\")\n",
    "T = T.to(\"cpu\")\n",
    "X_train = X_train.to(\"cpu\")\n",
    "preds = Train.batch_preds(model, X_train, T, model_name) # (batch, bs, tmax, n)\n",
    "\n",
    "print('best model was %d with test loss %.3f' % (best_model_index, np.min(stats['test loss'])) )\n",
    "\n",
    "print( sum(p.numel() for p in model.parameters() if p.requires_grad) )"
   ]
  },
  {
   "cell_type": "code",
   "execution_count": null,
   "id": "d4Eu3JEhReBT",
   "metadata": {
    "colab": {
     "base_uri": "https://localhost:8080/",
     "height": 851
    },
    "executionInfo": {
     "elapsed": 1397,
     "status": "error",
     "timestamp": 1733235660941,
     "user": {
      "displayName": "Carl Richardson",
      "userId": "17426648137746969126"
     },
     "user_tz": 0
    },
    "id": "d4Eu3JEhReBT",
    "outputId": "612f2caf-04c7-47c9-9e08-7f44bf9064b6"
   },
   "outputs": [],
   "source": [
    "Q = 6 # number of trajectories to plot.\n",
    "a = np.random.randint(bs, size=Q) # randomly sample Q out of N trajectories.\n",
    "z = n*1 # for plotting different states\n",
    "\n",
    "fig = plt.figure(figsize=(12,8))\n",
    "ax1 = fig.add_subplot(2, 3, 1)\n",
    "ax2 = fig.add_subplot(2, 3, 2)\n",
    "ax3 = fig.add_subplot(2, 3, 3)\n",
    "ax4 = fig.add_subplot(2, 3, 4)\n",
    "ax5 = fig.add_subplot(2, 3, 5)\n",
    "ax6 = fig.add_subplot(2, 3, 6)\n",
    "\n",
    "for j in range(Q):\n",
    "  ax1.plot(T, X_train[0, a[j],:,0+z])\n",
    "  ax2.plot(T, X_train[0, a[j],:,1+z])\n",
    "  ax3.plot(T, X_train[0, a[j],:,2+z])\n",
    "  ax4.plot(T, preds[0,a[j],:,0+z])\n",
    "  ax5.plot(T, preds[0,a[j],:,1+z])\n",
    "  ax6.plot(T, preds[0,a[j],:,2+z])"
   ]
  },
  {
   "cell_type": "code",
   "execution_count": null,
   "id": "3f5c5758-685d-43da-8c0f-ff0f9eecd5e3",
   "metadata": {
    "colab": {
     "base_uri": "https://localhost:8080/",
     "height": 720
    },
    "executionInfo": {
     "elapsed": 3864,
     "status": "error",
     "timestamp": 1733235689745,
     "user": {
      "displayName": "Carl Richardson",
      "userId": "17426648137746969126"
     },
     "user_tz": 0
    },
    "id": "3f5c5758-685d-43da-8c0f-ff0f9eecd5e3",
    "outputId": "60bb4438-7033-40d1-9e2a-4d219541ab80"
   },
   "outputs": [],
   "source": [
    "# Plot 3d states\n",
    "\n",
    "# file = 'compare_train_traj'\n",
    "# best_model_index = np.argmin(stats['test loss'])\n",
    "# best_model = 'epoch{:03d}.pt'.format(best_model_index+1)\n",
    "# model.load_state_dict( torch.load(model_dir + best_model) )\n",
    "# preds = Train.batch_preds(model, X_train, T, model_name) # (batch, bs, tmax, n)\n",
    "\n",
    "# if device == torch.device(\"cuda\"):\n",
    "#   T = T.cpu().numpy()\n",
    "#   X_train = X_train.cpu().numpy()\n",
    "#   preds = preds.cpu().numpy()\n",
    "eqs = []\n",
    "q = 6\n",
    "PT.compare_traj(D, model_dir, file, X_train[:,:,:,:3], preds[:,:,:,:3], eqs, q)\n",
    "\n",
    "print('best model was %d with test loss %.3f' % (best_model_index, np.min(stats['test loss'])) )\n"
   ]
  },
  {
   "cell_type": "code",
   "execution_count": null,
   "id": "1_BNjg2PR-wN",
   "metadata": {
    "id": "1_BNjg2PR-wN"
   },
   "outputs": [],
   "source": []
  }
 ],
 "metadata": {
  "accelerator": "GPU",
  "colab": {
   "gpuType": "T4",
   "provenance": []
  },
  "kernelspec": {
   "display_name": "LurieNet",
   "language": "python",
   "name": "python3"
  },
  "language_info": {
   "codemirror_mode": {
    "name": "ipython",
    "version": 3
   },
   "file_extension": ".py",
   "mimetype": "text/x-python",
   "name": "python",
   "nbconvert_exporter": "python",
   "pygments_lexer": "ipython3",
   "version": "3.12.2"
  }
 },
 "nbformat": 4,
 "nbformat_minor": 5
}
